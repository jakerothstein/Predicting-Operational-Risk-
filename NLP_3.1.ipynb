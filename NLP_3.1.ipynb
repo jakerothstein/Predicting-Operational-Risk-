{
 "cells": [
  {
   "cell_type": "markdown",
   "id": "8a77807f92f26ee",
   "metadata": {},
   "source": [
    "# Import necessary libraries"
   ]
  },
  {
   "cell_type": "code",
   "execution_count": null,
   "id": "fbc121e30a2defb3",
   "metadata": {
    "ExecuteTime": {
     "end_time": "2025-02-28T22:56:46.568875Z",
     "start_time": "2025-02-28T22:56:46.170074Z"
    }
   },
   "outputs": [
    {
     "name": "stderr",
     "output_type": "stream",
     "text": [
      "[nltk_data] Downloading package punkt to\n",
      "[nltk_data]     /Users/jakerothstein/nltk_data...\n",
      "[nltk_data]   Package punkt is already up-to-date!\n"
     ]
    },
    {
     "data": {
      "text/plain": [
       "True"
      ]
     },
     "execution_count": 1,
     "metadata": {},
     "output_type": "execute_result"
    }
   ],
   "source": [
    "import json\n",
    "import nltk\n",
    "import re\n",
    "import os\n",
    "import pandas as pd\n",
    "import matplotlib.pyplot as plt\n",
    "from nltk.tokenize import sent_tokenize\n",
    "import glob\n",
    "import seaborn as sns\n",
    "nltk.download('punkt')"
   ]
  },
  {
   "cell_type": "markdown",
   "id": "89b913cad8b70169",
   "metadata": {},
   "source": [
    "# Step 1: Preparing the Text Data"
   ]
  },
  {
   "cell_type": "code",
   "execution_count": 2,
   "id": "ad7e68926258fc60",
   "metadata": {
    "ExecuteTime": {
     "end_time": "2025-02-28T22:56:46.571769Z",
     "start_time": "2025-02-28T22:56:46.570033Z"
    }
   },
   "outputs": [],
   "source": [
    "def read_json_file(file_path):\n",
    "    with open(file_path, 'r') as file:\n",
    "        data = json.load(file)\n",
    "    return data\n",
    "\n",
    "def tokenize_text(text):\n",
    "    #make all text lowercase, into a single line, and tokenize into sentences\n",
    "    return [re.sub(r'\\n', ' ', s).lower() for s in sent_tokenize(text)]"
   ]
  },
  {
   "cell_type": "markdown",
   "id": "e8bb24bc178ef81f",
   "metadata": {},
   "source": [
    "# Define keyword lists"
   ]
  },
  {
   "cell_type": "code",
   "execution_count": 3,
   "id": "5c9563b3b181e714",
   "metadata": {
    "ExecuteTime": {
     "end_time": "2025-02-28T22:56:46.576678Z",
     "start_time": "2025-02-28T22:56:46.572420Z"
    }
   },
   "outputs": [],
   "source": [
    "keywords = {\n",
    "    'attack': {'relevant': ['cyber-', 'cyber', 'networks', 'systems', 'products', 'services', 'datacenter', 'infrastructure'],\n",
    "               'irrelevant': ['terror', 'war', 'contraband', 'bombs']},\n",
    "    'threat': {'relevant': ['cyber-', 'cyber', 'networks', 'systems', 'products', 'services', 'datacenter', 'infrastructure'],\n",
    "               'irrelevant': ['terror', 'simulator', 'disease', 'legal action', 'competitors']},\n",
    "    'computer': {'relevant': ['malware', 'virus', 'viruses', 'intrusions'],\n",
    "                 'irrelevant': ['fires', 'product sales', 'warranty claim']},\n",
    "    'information': {'relevant': ['malware', 'virus', 'viruses', 'intrusions'],\n",
    "                    'irrelevant': ['fires', 'product sales', 'warranty claim']},\n",
    "    'system': {'relevant': ['malware', 'virus', 'viruses', 'intrusions'],\n",
    "               'irrelevant': ['fires', 'product sales', 'warranty claim']},\n",
    "    'malicious': {'relevant': ['software', 'programs', 'third parties', 'attacks'],\n",
    "                  'irrelevant': []},\n",
    "    'breaches': {'relevant': [],\n",
    "                 'irrelevant': ['fiduciary duty', 'fiduciary duties', 'covenant', 'credit', 'agreement']},\n",
    "    'hacker': {'relevant': [], 'irrelevant': ['fiduciary', 'warranty', 'regulations', 'contract']},\n",
    "    'hacking': {'relevant': [], 'irrelevant': ['fiduciary', 'warranty', 'regulations', 'contract']},\n",
    "    'social engineering': {'relevant': [], 'irrelevant': ['fiduciary', 'warranty', 'regulations', 'contract']},\n",
    "    'denial of service': {'relevant': [], 'irrelevant': ['fiduciary', 'warranty', 'regulations', 'contract']},\n",
    "    'cyberattack': {'relevant': [], 'irrelevant': ['fiduciary', 'warranty', 'regulations', 'contract']},\n",
    "    'cybersecurity': {'relevant': [], 'irrelevant': ['fiduciary', 'warranty', 'regulations', 'contract']}\n",
    "}\n",
    "\n",
    "def get_industry(sic_code):\n",
    "    if 1 <= sic_code <= 999:\n",
    "        return 'Agriculture, Forestry and Fishing'\n",
    "    elif 1000 <= sic_code <= 1499:\n",
    "        return 'Mining'\n",
    "    elif 1500 <= sic_code <= 1799:\n",
    "        return 'Construction'\n",
    "    elif 2000 <= sic_code <= 3999:\n",
    "        return 'Manufacturing'\n",
    "    elif 4000 <= sic_code <= 4999:\n",
    "        return 'Transportation and other Utilities'\n",
    "    elif 5000 <= sic_code <= 5199:\n",
    "        return 'Wholesale Trade'\n",
    "    elif 5200 <= sic_code <= 5999:\n",
    "        return 'Retail Trade'\n",
    "    elif 6000 <= sic_code <= 6799:\n",
    "        return 'Finance, Insurance and Real Estate'\n",
    "    elif 7000 <= sic_code <= 8999:\n",
    "        return 'Services'\n",
    "    elif 9000 <= sic_code <= 9999:\n",
    "        return 'Public Administration'\n",
    "    else:\n",
    "        return 'Unknown'\n",
    "\n",
    "\n",
    "def is_relevant_sentence(sentence):\n",
    "    sentence = sentence\n",
    "    for keyword, conditions in keywords.items():\n",
    "        if keyword in sentence:\n",
    "            if not conditions['relevant'] and not conditions['irrelevant']:\n",
    "                return True\n",
    "            for rel in conditions['relevant']:\n",
    "                if rel in sentence:\n",
    "                    return True\n",
    "            for irr in conditions['irrelevant']:\n",
    "                if irr in sentence:\n",
    "                    return False\n",
    "    return False\n",
    "\n",
    "def extract_relevant_sentences(sentences):\n",
    "    return [s for s in sentences if is_relevant_sentence(s)]"
   ]
  },
  {
   "cell_type": "markdown",
   "id": "e9715bdb7f12840e",
   "metadata": {},
   "source": [
    "# Step 3: Constructing a Measure of Cybersecurity Risk"
   ]
  },
  {
   "cell_type": "code",
   "execution_count": 4,
   "id": "5c8326e086743b2b",
   "metadata": {
    "ExecuteTime": {
     "end_time": "2025-02-28T22:56:46.579235Z",
     "start_time": "2025-02-28T22:56:46.577410Z"
    }
   },
   "outputs": [],
   "source": [
    "def calculate_cybersecurity_risk(relevant_sentences, total_sentences):\n",
    "    # Option 1: Ratio of relevant sentences to total sentences\n",
    "    return len(relevant_sentences) / len(total_sentences)"
   ]
  },
  {
   "cell_type": "markdown",
   "id": "6f779230547e98a1",
   "metadata": {},
   "source": [
    "# Step 4: Descriptive Analysis\n"
   ]
  },
  {
   "cell_type": "code",
   "execution_count": 5,
   "id": "189e078f09476904",
   "metadata": {
    "ExecuteTime": {
     "end_time": "2025-02-28T22:56:46.582832Z",
     "start_time": "2025-02-28T22:56:46.579745Z"
    }
   },
   "outputs": [],
   "source": [
    "def plot_risk_distribution(df):\n",
    "    plt.figure(figsize=(12, 6))\n",
    "    sns.boxplot(x='industry', y='risk_measure', data=df)\n",
    "    plt.xticks(rotation=45, ha='right')\n",
    "    plt.title('Distribution of Cybersecurity Risk Measure by Industry')\n",
    "    plt.tight_layout()\n",
    "    plt.savefig('risk_distribution_by_industry.png')\n",
    "    plt.close()\n",
    "\n",
    "def plot_risk_over_time(df):\n",
    "    plt.figure(figsize=(12, 6))\n",
    "    for industry in df['industry'].unique():\n",
    "        industry_data = df[df['industry'] == industry]\n",
    "        yearly_stats = industry_data.groupby('year')['risk_measure'].agg(['mean', 'std'])\n",
    "        plt.errorbar(yearly_stats.index, yearly_stats['mean'], yerr=yearly_stats['std'], label=industry, capsize=5)\n",
    "    \n",
    "    plt.xlabel('Year')\n",
    "    plt.ylabel('Cybersecurity Risk Measure')\n",
    "    plt.title('Cybersecurity Risk Measure by Industry (2015-2023)')\n",
    "    plt.legend(bbox_to_anchor=(1.05, 1), loc='upper left')\n",
    "    plt.tight_layout()\n",
    "    plt.savefig('cybersecurity_risk_over_time.png')\n",
    "    plt.close()\n",
    "\n",
    "def plot_heatmap(df):\n",
    "    pivot_df = df.pivot_table(values='risk_measure', index='industry', columns='year', aggfunc='mean')\n",
    "    plt.figure(figsize=(12, 8))\n",
    "    sns.heatmap(pivot_df, annot=True, cmap='YlOrRd', fmt='.4f')\n",
    "    plt.title('Heatmap of Cybersecurity Risk Measure by Industry and Year')\n",
    "    plt.tight_layout()\n",
    "    plt.savefig('risk_heatmap.png')\n",
    "    plt.close()\n",
    "\n"
   ]
  },
  {
   "cell_type": "markdown",
   "id": "f159efac98f254eb",
   "metadata": {},
   "source": [
    "# Step 5. Data Execution"
   ]
  },
  {
   "cell_type": "code",
   "execution_count": 6,
   "id": "24c73dcf1bc0960c",
   "metadata": {
    "ExecuteTime": {
     "end_time": "2025-02-28T22:56:46.585468Z",
     "start_time": "2025-02-28T22:56:46.583369Z"
    }
   },
   "outputs": [],
   "source": [
    "def extraction(base_path='data/10K_item1a_PERMNO_2015_sic_tic'):\n",
    "    all_data = []\n",
    "    for file_path in glob.glob(os.path.join(base_path, '*.json')):\n",
    "        data = read_json_file(file_path)\n",
    "        sentences = tokenize_text(data['item_1A'])\n",
    "        relevant_sentences = extract_relevant_sentences(sentences)\n",
    "        risk_measure = calculate_cybersecurity_risk(relevant_sentences, sentences)\n",
    "        industry = get_industry(data['SIC'])\n",
    "        all_data.append({\n",
    "            'year': data['filing_date'][:4],\n",
    "            'company': data['company'],\n",
    "            'industry': industry,\n",
    "            'risk_measure': risk_measure\n",
    "        })\n",
    "        #write relevant sentences to file\n",
    "        with open(file_path.replace('.json', '_relevant.txt'), 'w') as file:\n",
    "            file.write('\\n'.join(relevant_sentences))\n",
    "    df = pd.DataFrame(all_data)\n",
    "    df.to_csv('data/cybersecurity_risk.csv', index=False)"
   ]
  },
  {
   "cell_type": "markdown",
   "id": "14f7243414338b77",
   "metadata": {},
   "source": [
    "# Main Execution"
   ]
  },
  {
   "cell_type": "code",
   "execution_count": 7,
   "id": "fd7d2cbcb972b92d",
   "metadata": {
    "ExecuteTime": {
     "end_time": "2025-02-28T22:56:46.994175Z",
     "start_time": "2025-02-28T22:56:46.587347Z"
    }
   },
   "outputs": [
    {
     "name": "stdout",
     "output_type": "stream",
     "text": [
      "Descriptive Statistics:\n",
      "                                        N      mean       std  min       max  \\\n",
      "industry                                                                       \n",
      "Agriculture, Forestry and Fishing      55  0.009914  0.007135  0.0  0.034286   \n",
      "Construction                          394  0.007577  0.007033  0.0  0.033019   \n",
      "Finance, Insurance and Real Estate   5543  0.014278  0.012746  0.0  0.142857   \n",
      "Manufacturing                       12610  0.008971  0.009617  0.0  0.097345   \n",
      "Mining                               1333  0.011078  0.010969  0.0  0.085714   \n",
      "Public Administration                 311  0.006138  0.010666  0.0  0.067961   \n",
      "Retail Trade                         1562  0.011689  0.010007  0.0  0.066667   \n",
      "Services                             4840  0.012245  0.010453  0.0  0.076336   \n",
      "Transportation and other Utilities   1901  0.014463  0.012439  0.0  0.104762   \n",
      "Wholesale Trade                       761  0.012470  0.011593  0.0  0.069444   \n",
      "\n",
      "                                     1%   5%       25%       50%       75%  \\\n",
      "industry                                                                     \n",
      "Agriculture, Forestry and Fishing   0.0  0.0  0.006702  0.009585  0.012248   \n",
      "Construction                        0.0  0.0  0.002488  0.006025  0.010974   \n",
      "Finance, Insurance and Real Estate  0.0  0.0  0.004943  0.011278  0.021453   \n",
      "Manufacturing                       0.0  0.0  0.002413  0.006150  0.012658   \n",
      "Mining                              0.0  0.0  0.002762  0.009646  0.015773   \n",
      "Public Administration               0.0  0.0  0.000000  0.002137  0.006218   \n",
      "Retail Trade                        0.0  0.0  0.004571  0.009615  0.016393   \n",
      "Services                            0.0  0.0  0.005263  0.010230  0.016434   \n",
      "Transportation and other Utilities  0.0  0.0  0.005405  0.011940  0.020408   \n",
      "Wholesale Trade                     0.0  0.0  0.004115  0.010101  0.017241   \n",
      "\n",
      "                                         95%       99%  skewness   kurtosis  \n",
      "industry                                                                     \n",
      "Agriculture, Forestry and Fishing   0.025449  0.029982  1.137781   2.341089  \n",
      "Construction                        0.021984  0.028164  1.106130   0.732433  \n",
      "Finance, Insurance and Real Estate  0.037736  0.052766  1.727283   7.872448  \n",
      "Manufacturing                       0.027972  0.044192  2.076123   6.821890  \n",
      "Mining                              0.030543  0.050666  2.012681   7.078396  \n",
      "Public Administration               0.027525  0.056685  3.134317  12.251157  \n",
      "Retail Trade                        0.029846  0.048006  1.547352   3.707941  \n",
      "Services                            0.032896  0.049476  1.622548   3.894056  \n",
      "Transportation and other Utilities  0.036036  0.054237  1.928454   7.275814  \n",
      "Wholesale Trade                     0.037313  0.047617  1.396948   2.301445  \n",
      "Analysis complete. Check the generated PNG files for the plots.\n"
     ]
    }
   ],
   "source": [
    "import numpy as np\n",
    "\n",
    "def compute_descriptive_stats(df):\n",
    "    stats = df.groupby('industry')['risk_measure'].agg([\n",
    "        'count', 'mean', 'std', 'min', 'max',\n",
    "        lambda x: np.percentile(x, 1),\n",
    "        lambda x: np.percentile(x, 5),\n",
    "        lambda x: np.percentile(x, 25),\n",
    "        lambda x: np.percentile(x, 50),\n",
    "        lambda x: np.percentile(x, 75),\n",
    "        lambda x: np.percentile(x, 95),\n",
    "        lambda x: np.percentile(x, 99),\n",
    "        lambda x: x.skew(),\n",
    "        lambda x: x.kurtosis()\n",
    "    ]).rename(columns={\n",
    "        'count': 'N',\n",
    "        '<lambda_0>': '1%',\n",
    "        '<lambda_1>': '5%',\n",
    "        '<lambda_2>': '25%',\n",
    "        '<lambda_3>': '50%',\n",
    "        '<lambda_4>': '75%',\n",
    "        '<lambda_5>': '95%',\n",
    "        '<lambda_6>': '99%',\n",
    "        '<lambda_7>': 'skewness',\n",
    "        '<lambda_8>': 'kurtosis'\n",
    "    })\n",
    "    return stats\n",
    "\n",
    "def main():\n",
    "    extraction()\n",
    "    df = pd.read_csv('data/cybersecurity_risk.csv')\n",
    "    \n",
    "    # Compute descriptive statistics\n",
    "    stats = compute_descriptive_stats(df)\n",
    "    print(\"Descriptive Statistics:\")\n",
    "    print(stats)\n",
    "    \n",
    "    # Plot risk distribution\n",
    "    plot_risk_distribution(df)\n",
    "    \n",
    "    # Plot risk measure over time\n",
    "    plot_risk_over_time(df)\n",
    "    \n",
    "    # Plot heatmap\n",
    "    plot_heatmap(df)\n",
    "    \n",
    "    print(\"Analysis complete. Check the generated PNG files for the plots.\")\n",
    "\n",
    "if __name__ == \"__main__\":\n",
    "    main()\n",
    "    # extraction()\n",
    "\n"
   ]
  },
  {
   "cell_type": "markdown",
   "id": "ff855abdfeb48df7",
   "metadata": {},
   "source": []
  },
  {
   "cell_type": "markdown",
   "id": "b116559816c7cdcb",
   "metadata": {},
   "source": []
  },
  {
   "cell_type": "markdown",
   "id": "e7ef786317dd48f3",
   "metadata": {},
   "source": [
    "Descriptive Statistics:\n",
    "                                        N      mean       std  min       max  \\\n",
    "industry                                                                       \n",
    "Agriculture, Forestry and Fishing      55  0.009914  0.007135  0.0  0.034286   \n",
    "Construction                          394  0.007577  0.007033  0.0  0.033019   \n",
    "Finance, Insurance and Real Estate   5543  0.014278  0.012746  0.0  0.142857   \n",
    "Manufacturing                       12610  0.008971  0.009617  0.0  0.097345   \n",
    "Mining                               1333  0.011078  0.010969  0.0  0.085714   \n",
    "Public Administration                 311  0.006138  0.010666  0.0  0.067961   \n",
    "Retail Trade                         1562  0.011689  0.010007  0.0  0.066667   \n",
    "Services                             4840  0.012245  0.010453  0.0  0.076336   \n",
    "Transportation and other Utilities   1901  0.014463  0.012439  0.0  0.104762   \n",
    "Wholesale Trade                       761  0.012470  0.011593  0.0  0.069444   \n",
    "\n",
    "                                     1%   5%       25%       50%       75%  \\\n",
    "industry                                                                     \n",
    "Agriculture, Forestry and Fishing   0.0  0.0  0.006702  0.009585  0.012248   \n",
    "Construction                        0.0  0.0  0.002488  0.006025  0.010974   \n",
    "Finance, Insurance and Real Estate  0.0  0.0  0.004943  0.011278  0.021453   \n",
    "Manufacturing                       0.0  0.0  0.002413  0.006150  0.012658   \n",
    "Mining                              0.0  0.0  0.002762  0.009646  0.015773   \n",
    "Public Administration               0.0  0.0  0.000000  0.002137  0.006218   \n",
    "Retail Trade                        0.0  0.0  0.004571  0.009615  0.016393   \n",
    "Services                            0.0  0.0  0.005263  0.010230  0.016434   \n",
    "Transportation and other Utilities  0.0  0.0  0.005405  0.011940  0.020408   \n",
    "Wholesale Trade                     0.0  0.0  0.004115  0.010101  0.017241   \n",
    "\n",
    "                                         95%       99%  skewness   kurtosis  \n",
    "industry                                                                     \n",
    "Agriculture, Forestry and Fishing   0.025449  0.029982  1.137781   2.341089  \n",
    "Construction                        0.021984  0.028164  1.106130   0.732433  \n",
    "Finance, Insurance and Real Estate  0.037736  0.052766  1.727283   7.872448  \n",
    "Manufacturing                       0.027972  0.044192  2.076123   6.821890  \n",
    "Mining                              0.030543  0.050666  2.012681   7.078396  \n",
    "Public Administration               0.027525  0.056685  3.134317  12.251157  \n",
    "Retail Trade                        0.029846  0.048006  1.547352   3.707941  \n",
    "Services                            0.032896  0.049476  1.622548   3.894056  \n",
    "Transportation and other Utilities  0.036036  0.054237  1.928454   7.275814  \n",
    "Wholesale Trade                     0.037313  0.047617  1.396948   2.301445"
   ]
  }
 ],
 "metadata": {
  "kernelspec": {
   "display_name": "Python 3",
   "language": "python",
   "name": "python3"
  },
  "language_info": {
   "codemirror_mode": {
    "name": "ipython",
    "version": 2
   },
   "file_extension": ".py",
   "mimetype": "text/x-python",
   "name": "python",
   "nbconvert_exporter": "python",
   "pygments_lexer": "ipython2",
   "version": "2.7.6"
  }
 },
 "nbformat": 4,
 "nbformat_minor": 5
}
